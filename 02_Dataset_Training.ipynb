{
  "nbformat": 4,
  "nbformat_minor": 0,
  "metadata": {
    "colab": {
      "name": "02. Dataset Training.ipynb",
      "provenance": [],
      "collapsed_sections": []
    },
    "kernelspec": {
      "name": "python3",
      "display_name": "Python 3"
    },
    "language_info": {
      "name": "python"
    }
  },
  "cells": [
    {
      "cell_type": "markdown",
      "metadata": {
        "id": "DfjOS3yP7Iz9"
      },
      "source": [
        "<h1>Modelling</h1>\n",
        "<p>Pada bagian ini dilakukan pemodelan YoloV3 menggunakan dataset yang telah diolah pada <u>01. Getting & Splitting Data.ipynb</u></p>"
      ]
    },
    {
      "cell_type": "markdown",
      "metadata": {
        "id": "mLv5inFsVtJ5"
      },
      "source": [
        "<p>Membaca google drive yang ingin dituju</p>"
      ]
    },
    {
      "cell_type": "code",
      "metadata": {
        "id": "lSFnbRlEVep7"
      },
      "source": [
        "from google.colab import drive\n",
        "drive.mount('/content/drive')"
      ],
      "execution_count": null,
      "outputs": []
    },
    {
      "cell_type": "markdown",
      "metadata": {
        "id": "KLa3R0QNcFo4"
      },
      "source": [
        "<p>Dilakukan <i>cloning neural network</i> yang digunakan pada YoloV3, yakni Darknet. Reposistori tersebut dapat diperhatikan pada link <a href=\"https://github.com/AlexeyAB/darknet.git\">berikut</a>.</p>"
      ]
    },
    {
      "cell_type": "code",
      "metadata": {
        "id": "AGBo1aaAVq4F"
      },
      "source": [
        "!git clone 'https://github.com/AlexeyAB/darknet.git' '/content/drive/My Drive/Tugas Akhir 2/Objek Deteksi Aksara Batak Toba - YoloV3/Darknet'"
      ],
      "execution_count": null,
      "outputs": []
    },
    {
      "cell_type": "code",
      "metadata": {
        "id": "8z5GoflEV5gy"
      },
      "source": [
        "%cd /content/drive/My Drive/Tugas Akhir 2/Latihan Objek Deteksi Aksara Batak Toba - YoloV3_2/Darknet"
      ],
      "execution_count": null,
      "outputs": []
    },
    {
      "cell_type": "code",
      "metadata": {
        "id": "wd-r8nmeWErV"
      },
      "source": [
        "!ls"
      ],
      "execution_count": null,
      "outputs": []
    },
    {
      "cell_type": "markdown",
      "metadata": {
        "id": "pT4j0cCHch_G"
      },
      "source": [
        "<p>Sebelumnya lakukan pengubahan pada file Makefile dan yolov3.cfg</p>"
      ]
    },
    {
      "cell_type": "code",
      "metadata": {
        "id": "oofUP-mpWHSA"
      },
      "source": [
        "!make"
      ],
      "execution_count": null,
      "outputs": []
    },
    {
      "cell_type": "code",
      "metadata": {
        "id": "9laVftIiWLis"
      },
      "source": [
        "%cd /content/drive/My Drive/Tugas Akhir 2/Objek Deteksi Aksara Batak Toba - YoloV3"
      ],
      "execution_count": null,
      "outputs": []
    },
    {
      "cell_type": "markdown",
      "metadata": {
        "id": "yWLxRMA5dqss"
      },
      "source": [
        "<p>Setelah itu dilakukan perhitungan 9 anchors yang nantinya akan digunakan untuk training dataset juga untuk pengujian.</p>"
      ]
    },
    {
      "cell_type": "code",
      "metadata": {
        "id": "MCrFgN5fWP4A"
      },
      "source": [
        "!Darknet/darknet detector calc_anchors dataset_aksara_bataktoba/labelled_data.data -num_of_clusters 9 -width 416 -height 416 -show"
      ],
      "execution_count": null,
      "outputs": []
    },
    {
      "cell_type": "code",
      "metadata": {
        "id": "WjBBYFiWWaMg"
      },
      "source": [
        "%cd /content/drive/My Drive/Tugas Akhir 2/Objek Deteksi Aksara Batak Toba - YoloV3"
      ],
      "execution_count": null,
      "outputs": []
    },
    {
      "cell_type": "markdown",
      "metadata": {
        "id": "iFh6dEkBeEYY"
      },
      "source": [
        "<p>Setelah dilakukan penentuan variabel-variabel, fase training sudah dapat dilakukan</p>"
      ]
    },
    {
      "cell_type": "code",
      "metadata": {
        "id": "PA3hIDqdWc0V"
      },
      "source": [
        "!Darknet/darknet detector train dataset_aksara_bataktoba/labelled_data.data Darknet/cfg/yolov3.cfg custom_weight/darknet53.conv.74 - dont_show"
      ],
      "execution_count": null,
      "outputs": []
    },
    {
      "cell_type": "markdown",
      "metadata": {
        "id": "W7OjFDCAeYYq"
      },
      "source": [
        "<p>Pemodelan berhasil dilakukan. File Model dapat dilihat pada folder <u>backup</u></p>"
      ]
    }
  ]
}